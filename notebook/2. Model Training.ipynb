{
 "cells": [
  {
   "cell_type": "code",
   "execution_count": 6,
   "metadata": {},
   "outputs": [],
   "source": [
    "import pandas as pd\n",
    "import numpy as np\n",
    "np.random.seed(42)\n"
   ]
  },
  {
   "cell_type": "code",
   "execution_count": 7,
   "metadata": {},
   "outputs": [],
   "source": [
    "df = pd.read_csv(\"data/stud.csv\")"
   ]
  },
  {
   "cell_type": "code",
   "execution_count": 8,
   "metadata": {},
   "outputs": [
    {
     "data": {
      "text/plain": [
       "(1000, 8)"
      ]
     },
     "execution_count": 8,
     "metadata": {},
     "output_type": "execute_result"
    }
   ],
   "source": [
    "df.shape"
   ]
  },
  {
   "cell_type": "code",
   "execution_count": 9,
   "metadata": {},
   "outputs": [],
   "source": [
    "# Prepare X and Y variables\n",
    "x = df.drop(columns=['math_score'],axis=1)\n",
    "y = df['math_score']"
   ]
  },
  {
   "cell_type": "code",
   "execution_count": 11,
   "metadata": {},
   "outputs": [],
   "source": [
    "# create column transformer\n",
    "num_features = x.select_dtypes(exclude='object').columns\n",
    "cat_features = x.select_dtypes(include='object').columns\n",
    "\n",
    "from sklearn.preprocessing import OneHotEncoder, StandardScaler\n",
    "from sklearn.compose import ColumnTransformer\n",
    "\n",
    "numeric_transformer = StandardScaler()\n",
    "oh_transformer = OneHotEncoder()\n",
    "\n",
    "preprocessor = ColumnTransformer(\n",
    "    [(\"OneHotEncoder\", oh_transformer, cat_features),\n",
    "     (\"StandardScaler\", numeric_transformer, num_features),]\n",
    ")\n",
    "\n",
    "x = preprocessor.fit_transform(x)\n",
    "\n",
    "from sklearn.model_selection import train_test_split\n",
    "x_train, x_test, y_train, y_test = train_test_split(x,y, test_size=0.2, random_state=42)"
   ]
  },
  {
   "cell_type": "code",
   "execution_count": 12,
   "metadata": {},
   "outputs": [],
   "source": [
    "# function for evaluation metric\n",
    "\n",
    "from sklearn.metrics import mean_absolute_error, mean_squared_error, r2_score\n",
    "def evaluate_model(true, predicted):\n",
    "    mae = mean_absolute_error(true, predicted)\n",
    "    mse = mean_squared_error(true, predicted)\n",
    "    rmse = np.sqrt(mean_squared_error(true, predicted))\n",
    "    r2_square = r2_score(true, predicted)\n",
    "\n",
    "    return mae, mse, rmse, r2_square"
   ]
  },
  {
   "cell_type": "code",
   "execution_count": 14,
   "metadata": {},
   "outputs": [
    {
     "name": "stdout",
     "output_type": "stream",
     "text": [
      "Model name : Linear Regression\n",
      "model_train_mae, model_train_mse, model_train_rmse, model_train_r2_square\n",
      "4.2744140625 28.423897705078126 5.331406728535924 0.8739223123873824\n",
      "model_test_mae, model_test_mse, model_test_rmse, model_test_r2_square\n",
      "4.2415625 29.72283203125 5.451865004863015 0.8778539185297101\n",
      "####################\n",
      "\n",
      "\n",
      "\n",
      "Model name : Lasso\n",
      "model_train_mae, model_train_mse, model_train_rmse, model_train_r2_square\n",
      "5.206302661246526 43.47840400585578 6.593815587795565 0.8071462015863458\n",
      "model_test_mae, model_test_mse, model_test_rmse, model_test_r2_square\n",
      "5.157881810347763 42.50641683841162 6.51969453566742 0.8253197323627852\n",
      "####################\n",
      "\n",
      "\n",
      "\n",
      "Model name : Ridge\n",
      "model_train_mae, model_train_mse, model_train_rmse, model_train_r2_square\n",
      "4.26498782372598 28.33778823308244 5.323324922741654 0.8743042615212909\n",
      "model_test_mae, model_test_mse, model_test_rmse, model_test_r2_square\n",
      "4.211100688014259 29.056272192348274 5.3903870169356365 0.8805931485028738\n",
      "####################\n",
      "\n",
      "\n",
      "\n",
      "Model name : K-Neighbors\n",
      "model_train_mae, model_train_mse, model_train_rmse, model_train_r2_square\n",
      "4.51225 32.55235 5.705466676793407 0.8556100554209579\n",
      "model_test_mae, model_test_mse, model_test_rmse, model_test_r2_square\n",
      "5.659 52.7574 7.263428942310925 0.7831932814549615\n",
      "####################\n",
      "\n",
      "\n",
      "\n",
      "Model name : Decision Tree Regressor\n",
      "model_train_mae, model_train_mse, model_train_rmse, model_train_r2_square\n",
      "0.01875 0.078125 0.2795084971874737 0.9996534669718089\n",
      "model_test_mae, model_test_mse, model_test_rmse, model_test_r2_square\n",
      "6.075 58.245 7.631841193316328 0.7606419701945932\n",
      "####################\n",
      "\n",
      "\n",
      "\n",
      "Model name : Random Forest Regressor\n",
      "model_train_mae, model_train_mse, model_train_rmse, model_train_r2_square\n",
      "1.8480874999999997 5.3340845961238665 2.309563724196383 0.9763400129571522\n",
      "model_test_mae, model_test_mse, model_test_rmse, model_test_r2_square\n",
      "4.62045 35.43041497222222 5.952345333750573 0.8543985866093382\n",
      "####################\n",
      "\n",
      "\n",
      "\n",
      "Model name : Adaboost Regressor\n",
      "model_train_mae, model_train_mse, model_train_rmse, model_train_r2_square\n",
      "4.707535352652964 33.17118577147582 5.759443182415798 0.8528651333877737\n",
      "model_test_mae, model_test_mse, model_test_rmse, model_test_r2_square\n",
      "4.717817860124462 36.78252200184183 6.064859602813724 0.8488420980747723\n",
      "####################\n",
      "\n",
      "\n",
      "\n"
     ]
    }
   ],
   "source": [
    "from sklearn.linear_model import LinearRegression, Lasso, Ridge\n",
    "from sklearn.neighbors import KNeighborsRegressor\n",
    "from sklearn.tree import DecisionTreeRegressor\n",
    "from sklearn.ensemble import RandomForestRegressor, AdaBoostRegressor\n",
    "# from catboost import CatBoostRegressor\n",
    "\n",
    "models = {\n",
    "    \"Linear Regression\" : LinearRegression(),\n",
    "    \"Lasso\" : Lasso(),\n",
    "    \"Ridge\" : Ridge(),\n",
    "    \"K-Neighbors\" : KNeighborsRegressor(),\n",
    "    \"Decision Tree Regressor\" : DecisionTreeRegressor(),\n",
    "    \"Random Forest Regressor\" : RandomForestRegressor(),\n",
    "    \"Adaboost Regressor\" : AdaBoostRegressor()\n",
    "\n",
    "}\n",
    "\n",
    "model_list  = []\n",
    "r2_list = []\n",
    "\n",
    "for model_name, model_obj in models.items():\n",
    "    model_obj.fit(x_train, y_train)\n",
    "\n",
    "    y_train_pred = model_obj.predict(x_train)\n",
    "    y_test_pred = model_obj.predict(x_test)\n",
    "\n",
    "    model_train_mae, model_train_mse, model_train_rmse, model_train_r2_square = evaluate_model(y_train, y_train_pred)\n",
    "    model_test_mae, model_test_mse, model_test_rmse, model_test_r2_square = evaluate_model(y_test, y_test_pred)\n",
    "\n",
    "    print(f\"Model name : {model_name}\")\n",
    "    print(\"model_train_mae, model_train_mse, model_train_rmse, model_train_r2_square\")\n",
    "    print(model_train_mae, model_train_mse, model_train_rmse, model_train_r2_square)\n",
    "    print(\"model_test_mae, model_test_mse, model_test_rmse, model_test_r2_square\")\n",
    "    print(model_test_mae, model_test_mse, model_test_rmse, model_test_r2_square)\n",
    "\n",
    "    print(\"#\"*20)\n",
    "    print(\"\\n\\n\")\n",
    "\n",
    "    model_list.append(model_name)\n",
    "\n",
    "    r2_list.append(model_test_r2_square)\n"
   ]
  },
  {
   "cell_type": "code",
   "execution_count": null,
   "metadata": {},
   "outputs": [],
   "source": []
  },
  {
   "cell_type": "code",
   "execution_count": null,
   "metadata": {},
   "outputs": [],
   "source": []
  },
  {
   "cell_type": "code",
   "execution_count": null,
   "metadata": {},
   "outputs": [],
   "source": []
  },
  {
   "cell_type": "code",
   "execution_count": null,
   "metadata": {},
   "outputs": [],
   "source": []
  },
  {
   "cell_type": "code",
   "execution_count": null,
   "metadata": {},
   "outputs": [],
   "source": []
  },
  {
   "cell_type": "code",
   "execution_count": null,
   "metadata": {},
   "outputs": [],
   "source": []
  }
 ],
 "metadata": {
  "kernelspec": {
   "display_name": "venv",
   "language": "python",
   "name": "python3"
  },
  "language_info": {
   "codemirror_mode": {
    "name": "ipython",
    "version": 3
   },
   "file_extension": ".py",
   "mimetype": "text/x-python",
   "name": "python",
   "nbconvert_exporter": "python",
   "pygments_lexer": "ipython3",
   "version": "3.7.4"
  },
  "orig_nbformat": 4
 },
 "nbformat": 4,
 "nbformat_minor": 2
}
